{
 "cells": [
  {
   "cell_type": "markdown",
   "metadata": {},
   "source": [
    "IMPORTING LIBRARIES AND LOADING DATAFRAME"
   ]
  },
  {
   "cell_type": "code",
   "execution_count": null,
   "metadata": {},
   "outputs": [],
   "source": [
    "import pandas as pd\n",
    "import warnings\n",
    "warnings.filterwarnings('ignore') #ignore warnings.\n",
    "from sys import path\n",
    "import os\n",
    "path.append(os.path.realpath('../'))\n",
    "\n",
    "df_bank = pd.read_csv(\"/workspaces/Preprocessing-and-data-exploration_GermanBank/Dataframe/german_credit.csv\")\n",
    "pd.set_option('display.max_columns',None) #make the number of columns to be displayed unlimited. This let me see all the columns available.\n",
    "df_bank.info()"
   ]
  },
  {
   "cell_type": "markdown",
   "metadata": {},
   "source": [
    "First step is take all 'object' datatype and evalute what categories we have in those columns, so we create a for loop to see the column names and the unique categories, to see how we can convert those in numeric values."
   ]
  },
  {
   "cell_type": "code",
   "execution_count": null,
   "metadata": {},
   "outputs": [],
   "source": [
    "column = list(df_bank.select_dtypes(include=['object']).columns) #creating a list with all the columns with dtype = object\n",
    "\n",
    "for col in column:\n",
    "  category = list(df_bank[col].value_counts().index) #value_counts create a series with the unique category names as an index and the value as the first column. With .index we gather only the index names\n",
    "  print(f'Name column is: {col}, with the next categories: {category}')\n",
    "  print('\\n')"
   ]
  },
  {
   "cell_type": "markdown",
   "metadata": {},
   "source": [
    "NOTE: The German Credit data.csv file has the information about what numeric value should have each category. THIS DOCUMENT IS A DICTIONARY.\n",
    "Now we convert the categoric values into numeric with the categoric_to_numeric function."
   ]
  },
  {
   "cell_type": "code",
   "execution_count": null,
   "metadata": {},
   "outputs": [],
   "source": [
    "from helpers.categoric_to_numeric import cat_to_num\n",
    "df_bank_num = cat_to_num(df_bank)\n",
    "df_bank_num.head()"
   ]
  },
  {
   "cell_type": "markdown",
   "metadata": {},
   "source": [
    "The less scattered the data is, the better and faster the machine will understand it, so now we take all the columns with continue variables and convert them into discrete, establishing a range."
   ]
  },
  {
   "cell_type": "code",
   "execution_count": null,
   "metadata": {},
   "outputs": [],
   "source": [
    "from helpers.to_range_var import continue_to_discrete\n",
    "df_bank_discrete = continue_to_discrete(df_bank_num)\n",
    "df_bank_discrete.info()"
   ]
  },
  {
   "cell_type": "code",
   "execution_count": null,
   "metadata": {},
   "outputs": [],
   "source": [
    "from helpers.graphs import hist\n",
    "hist(df_bank_discrete)"
   ]
  },
  {
   "cell_type": "code",
   "execution_count": null,
   "metadata": {},
   "outputs": [],
   "source": [
    "df_bank_discrete.info()"
   ]
  }
 ],
 "metadata": {
  "kernelspec": {
   "display_name": "Python 3",
   "language": "python",
   "name": "python3"
  },
  "language_info": {
   "codemirror_mode": {
    "name": "ipython",
    "version": 3
   },
   "file_extension": ".py",
   "mimetype": "text/x-python",
   "name": "python",
   "nbconvert_exporter": "python",
   "pygments_lexer": "ipython3",
   "version": "3.10.13"
  }
 },
 "nbformat": 4,
 "nbformat_minor": 2
}
